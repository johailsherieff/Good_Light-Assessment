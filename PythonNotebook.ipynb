{
 "cells": [
  {
   "cell_type": "markdown",
   "metadata": {},
   "source": [
    "# Good Light"
   ]
  },
  {
   "cell_type": "markdown",
   "metadata": {},
   "source": [
    "The URL https://www.truepeoplesearch.com/results to scrape data has the base URL to which it searches for each person according to the Location mentioned in the search bar.\n",
    "\n",
    "The query parametes are ?name=Johail&citystatezip=Massachusetts where name denotes the First Name or Last Name of the person and the citystatezip parameter can take any kind of input from city, state and even the zipcode to filter down the data to be displayed."
   ]
  },
  {
   "cell_type": "code",
   "execution_count": 18,
   "metadata": {},
   "outputs": [
    {
     "name": "stdout",
     "output_type": "stream",
     "text": [
      "<a href=\"/\" style=\"text-decoration:none;\"><b><span style=\"color:#436280;\">True</span></b><span style=\"color:#a3bad2;\">PeopleSearch</span></a>\n",
      "<a href=\"/\" style=\"text-decoration:none;\"><b><span style=\"color:#436280;\">True</span></b><span style=\"color:#a3bad2;\">PeopleSearch</span></a>\n",
      "<a class=\"search-type-link\" data-search-type=\"name\" href=\"#\" style=\"text-decoration:none;\">Name</a>\n",
      "<a class=\"search-type-link\" data-search-type=\"phone\" href=\"#\" style=\"text-decoration:none;\">Reverse Phone</a>\n",
      "<a class=\"search-type-link\" data-search-type=\"address\" href=\"#\" style=\"text-decoration:none;\">Reverse Address</a>\n",
      "<a class=\"search-type-link\" data-search-type=\"name\" href=\"#\" style=\"text-decoration:none;\">Name</a>\n",
      "<a class=\"search-type-link\" data-search-type=\"phone\" href=\"#\" style=\"text-decoration:none;\">Phone</a>\n",
      "<a class=\"search-type-link\" data-search-type=\"address\" href=\"#\" style=\"text-decoration:none;\">Address</a>\n",
      "<a aria-label=\"Cancel\" class=\"link-cancel button btn btn-danger btn-block btn-lg shadow-form\" href=\"#\"><i aria-hidden=\"true\" class=\"fa fa-remove\"></i></a>\n",
      "<a aria-label=\"Cancel\" class=\"link-cancel button btn btn-danger btn-block btn-lg shadow-form\" href=\"#\"><i aria-hidden=\"true\" class=\"fa fa-remove\"></i></a>\n",
      "<a aria-label=\"Cancel\" class=\"link-cancel button btn btn-danger btn-block btn-lg shadow-form\" href=\"#\"><i aria-hidden=\"true\" class=\"fa fa-remove\"></i></a>\n",
      "<a aria-label=\"View All Details\" class=\"btn btn-success btn-lg detail-link shadow-form\" href=\"/results?name=Johail&amp;citystatezip=Massachusetts&amp;rid=0x0\">View All Details</a>\n",
      "<a aria-label=\"View All Details\" class=\"btn btn-success btn-lg detail-link shadow-form\" href=\"/results?name=Johail&amp;citystatezip=Massachusetts&amp;rid=0x0\">View All Details</a>\n",
      "<a aria-label=\"View All Details\" class=\"btn btn-success btn-lg detail-link shadow-form\" href=\"/results?name=Johail&amp;citystatezip=Massachusetts&amp;rid=0xl\">View All Details</a>\n",
      "<a aria-label=\"View All Details\" class=\"btn btn-success btn-lg detail-link shadow-form\" href=\"/results?name=Johail&amp;citystatezip=Massachusetts&amp;rid=0xl\">View All Details</a>\n",
      "<a aria-label=\"View All Details\" class=\"btn btn-success btn-lg detail-link shadow-form\" href=\"/results?name=Johail&amp;citystatezip=Massachusetts&amp;rid=0x2\">View All Details</a>\n",
      "<a aria-label=\"View All Details\" class=\"btn btn-success btn-lg detail-link shadow-form\" href=\"/results?name=Johail&amp;citystatezip=Massachusetts&amp;rid=0x2\">View All Details</a>\n",
      "<a aria-label=\"View All Details\" class=\"btn btn-success btn-lg detail-link shadow-form\" href=\"/results?name=Johail&amp;citystatezip=Massachusetts&amp;rid=0xr\">View All Details</a>\n",
      "<a aria-label=\"View All Details\" class=\"btn btn-success btn-lg detail-link shadow-form\" href=\"/results?name=Johail&amp;citystatezip=Massachusetts&amp;rid=0xr\">View All Details</a>\n",
      "<a class=\"footer-text\" href=\"/\">TruePeopleSearch.com</a>\n",
      "<a class=\"footer-text\" href=\"/\">People Search</a>\n",
      "<a class=\"footer-text\" href=\"/reverse-phone-lookup\">Reverse Phone <span class=\"d-none d-sm-inline\">Lookup</span></a>\n",
      "<a class=\"footer-text\" href=\"/address-lookup\">Address Lookup</a>\n",
      "<a class=\"footer-text\" href=\"/about\">About</a>\n",
      "<a class=\"footer-text\" href=\"/help\">Help</a>\n",
      "<a class=\"footer-text\" href=\"/terms\">Terms</a>\n",
      "<a class=\"footer-text\" href=\"/privacy\">Privacy <span class=\"d-none d-sm-inline\">Policy</span></a>\n",
      "<a class=\"footer-text\" href=\"/contact\">Contact Us</a>\n",
      "<a class=\"footer-text\" href=\"mailto:support@truepeoplesearch.com\">support@truepeoplesearch.com</a>\n",
      "<a class=\"footer-text\" href=\"/contact\">Send us a message</a>\n"
     ]
    }
   ],
   "source": [
    "import requests\n",
    "from bs4 import BeautifulSoup\n",
    "\n",
    "URL=\"https://www.truepeoplesearch.com/results?name=Johail&citystatezip=Massachusetts\"\n",
    "page=requests.get(URL)\n",
    "soup=BeautifulSoup(page.content,'html.parser')\n",
    "\n",
    "for link in soup.find_all('a'):\n",
    "    if link.has_attr('href'):\n",
    "        print link\n"
   ]
  },
  {
   "cell_type": "code",
   "execution_count": null,
   "metadata": {},
   "outputs": [],
   "source": []
  },
  {
   "cell_type": "code",
   "execution_count": null,
   "metadata": {},
   "outputs": [],
   "source": []
  },
  {
   "cell_type": "code",
   "execution_count": null,
   "metadata": {},
   "outputs": [],
   "source": []
  },
  {
   "cell_type": "code",
   "execution_count": null,
   "metadata": {},
   "outputs": [],
   "source": []
  },
  {
   "cell_type": "code",
   "execution_count": null,
   "metadata": {},
   "outputs": [],
   "source": []
  },
  {
   "cell_type": "code",
   "execution_count": null,
   "metadata": {},
   "outputs": [],
   "source": []
  },
  {
   "cell_type": "code",
   "execution_count": null,
   "metadata": {},
   "outputs": [],
   "source": []
  },
  {
   "cell_type": "code",
   "execution_count": null,
   "metadata": {},
   "outputs": [],
   "source": []
  },
  {
   "cell_type": "code",
   "execution_count": null,
   "metadata": {},
   "outputs": [],
   "source": []
  },
  {
   "cell_type": "code",
   "execution_count": null,
   "metadata": {},
   "outputs": [],
   "source": []
  },
  {
   "cell_type": "code",
   "execution_count": null,
   "metadata": {},
   "outputs": [],
   "source": []
  },
  {
   "cell_type": "code",
   "execution_count": null,
   "metadata": {},
   "outputs": [],
   "source": []
  },
  {
   "cell_type": "code",
   "execution_count": null,
   "metadata": {},
   "outputs": [],
   "source": []
  },
  {
   "cell_type": "code",
   "execution_count": null,
   "metadata": {},
   "outputs": [],
   "source": []
  },
  {
   "cell_type": "code",
   "execution_count": null,
   "metadata": {},
   "outputs": [],
   "source": []
  },
  {
   "cell_type": "code",
   "execution_count": null,
   "metadata": {},
   "outputs": [],
   "source": []
  },
  {
   "cell_type": "code",
   "execution_count": null,
   "metadata": {},
   "outputs": [],
   "source": []
  }
 ],
 "metadata": {
  "kernelspec": {
   "display_name": "Python 2",
   "language": "python",
   "name": "python2"
  },
  "language_info": {
   "codemirror_mode": {
    "name": "ipython",
    "version": 2
   },
   "file_extension": ".py",
   "mimetype": "text/x-python",
   "name": "python",
   "nbconvert_exporter": "python",
   "pygments_lexer": "ipython2",
   "version": "2.7.15"
  }
 },
 "nbformat": 4,
 "nbformat_minor": 2
}
